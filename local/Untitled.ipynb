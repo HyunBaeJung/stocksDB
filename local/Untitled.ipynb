{
 "cells": [
  {
   "cell_type": "code",
   "execution_count": 1,
   "metadata": {},
   "outputs": [],
   "source": [
    "import yfinance as yf"
   ]
  },
  {
   "cell_type": "code",
   "execution_count": 6,
   "metadata": {},
   "outputs": [
    {
     "name": "stdout",
     "output_type": "stream",
     "text": [
      "[*********************100%***********************]  1 of 1 completed\n"
     ]
    }
   ],
   "source": [
    "vixData = yf.download('^VIX',start = '2017-01-01')"
   ]
  },
  {
   "cell_type": "markdown",
   "metadata": {},
   "source": [
    "# 데이터\n",
    "### Date,Open,High,Low,Close,Adj Close,Volume\n",
    "\n",
    "# 모평균\n",
    "## 하루마다 나오는 지수 - 한달평균을 내면 월평균\n",
    "## 연에대해서 평균의 평균값을 냄\n",
    "## 표준편차가 더 정확함.\n"
   ]
  },
  {
   "cell_type": "code",
   "execution_count": 7,
   "metadata": {
    "scrolled": true
   },
   "outputs": [
    {
     "data": {
      "text/plain": [
       "Date\n",
       "2017-01-03    12.850000\n",
       "2017-01-04    11.850000\n",
       "2017-01-05    11.670000\n",
       "2017-01-06    11.320000\n",
       "2017-01-09    11.560000\n",
       "2017-01-10    11.490000\n",
       "2017-01-11    11.260000\n",
       "2017-01-12    11.540000\n",
       "2017-01-13    11.230000\n",
       "2017-01-17    11.870000\n",
       "2017-01-18    12.480000\n",
       "2017-01-19    12.780000\n",
       "2017-01-20    11.540000\n",
       "2017-01-23    11.770000\n",
       "2017-01-24    11.070000\n",
       "2017-01-25    10.810000\n",
       "2017-01-26    10.630000\n",
       "2017-01-27    10.580000\n",
       "2017-01-30    11.880000\n",
       "2017-01-31    11.990000\n",
       "2017-02-01    11.810000\n",
       "2017-02-02    11.930000\n",
       "2017-02-03    10.970000\n",
       "2017-02-06    11.370000\n",
       "2017-02-07    11.290000\n",
       "2017-02-08    11.450000\n",
       "2017-02-09    10.880000\n",
       "2017-02-10    10.850000\n",
       "2017-02-13    11.070000\n",
       "2017-02-14    10.740000\n",
       "                ...    \n",
       "2021-02-19    22.049999\n",
       "2021-02-22    23.450001\n",
       "2021-02-23    23.110001\n",
       "2021-02-24    21.340000\n",
       "2021-02-25    28.889999\n",
       "2021-02-26    27.950001\n",
       "2021-03-01    23.350000\n",
       "2021-03-02    24.100000\n",
       "2021-03-03    26.670000\n",
       "2021-03-04    28.570000\n",
       "2021-03-05    24.660000\n",
       "2021-03-08    25.469999\n",
       "2021-03-09    24.030001\n",
       "2021-03-10    22.559999\n",
       "2021-03-11    21.910000\n",
       "2021-03-12    20.690001\n",
       "2021-03-15    20.030001\n",
       "2021-03-16    19.790001\n",
       "2021-03-17    19.230000\n",
       "2021-03-18    21.580000\n",
       "2021-03-19    20.950001\n",
       "2021-03-22    18.879999\n",
       "2021-03-23    20.299999\n",
       "2021-03-24    21.200001\n",
       "2021-03-25    19.809999\n",
       "2021-03-26    18.860001\n",
       "2021-03-29    20.740000\n",
       "2021-03-30    19.610001\n",
       "2021-03-31    19.400000\n",
       "2021-04-01    17.330000\n",
       "Name: Close, Length: 1069, dtype: float64"
      ]
     },
     "execution_count": 7,
     "metadata": {},
     "output_type": "execute_result"
    }
   ],
   "source": [
    "vixData['Close']"
   ]
  },
  {
   "cell_type": "code",
   "execution_count": null,
   "metadata": {},
   "outputs": [],
   "source": []
  },
  {
   "cell_type": "code",
   "execution_count": null,
   "metadata": {},
   "outputs": [],
   "source": []
  },
  {
   "cell_type": "code",
   "execution_count": 11,
   "metadata": {},
   "outputs": [
    {
     "data": {
      "text/plain": [
       "(array([ 3.,  2.,  2.,  4.,  1.,  8.,  6.,  3.,  8.,  6., 13.,  5., 10.,\n",
       "         7.,  9.,  6.,  6.,  8.,  6.,  6.,  5.,  6.,  3.,  8.,  5.,  3.,\n",
       "         9.,  3., 10., 10.,  4., 10.,  8.,  8.,  7.,  7.,  6.,  5.,  5.,\n",
       "         9., 10.,  8., 11., 11., 11.,  9.,  9., 13.,  8.,  5., 18.,  7.,\n",
       "         5.,  6., 10.,  8.,  3.,  4., 10.,  7.,  4.,  5.,  7.,  4.,  3.,\n",
       "         5.,  7.,  1.,  3.,  6.,  2.,  4.,  4.,  3.,  8.,  6., 10.,  4.,\n",
       "         8.,  4.,  3.,  4.,  2.,  5.,  3.,  5.,  4.,  7.,  2.,  4.,  7.,\n",
       "         3., 13.,  5.,  4.,  2.,  5.,  6.,  4.,  4.,  2.,  3.,  1.,  1.,\n",
       "         1.,  4.,  1.,  4.,  0.,  2.,  1.,  5.,  3.,  3.,  1.,  3.,  0.,\n",
       "         2.,  5.,  2.,  3.,  3.,  1.,  3.,  0.,  1.,  1.,  2.,  3.,  1.,\n",
       "         3.,  2.,  6.,  2.,  3.,  5.,  0.,  2.,  4.,  2.,  4.,  1.,  3.,\n",
       "         1.,  1.,  3.,  2.,  7.,  3.,  2.,  1.,  3.,  0.,  1.,  2.,  4.,\n",
       "         2.,  4.,  4.,  2.,  1.,  1.,  2.,  4.,  5.,  6.,  3.,  3.,  5.,\n",
       "         6.,  1.,  3.,  0.,  3.,  1.,  3.,  3.,  2.,  2.,  2.,  1.,  6.,\n",
       "         3.,  3.,  2.,  2.,  2.,  3.,  2.,  4.,  0.,  5.,  4.,  3.,  2.,\n",
       "         0.,  1.,  1.,  1.,  1.,  0.,  0.,  2.,  3.,  1.,  3.,  2.,  0.,\n",
       "         3.,  2.,  1.,  3.,  3.,  3.,  0.,  3.,  3.,  1.,  1.,  0.,  2.,\n",
       "         3.,  1.,  5.,  2.,  1.,  3.,  2.,  0.,  1.,  3.,  1.,  1.,  0.,\n",
       "         5.,  1.,  1.,  0.,  2.,  0.,  2.,  1.,  2.,  0.,  0.,  0.,  1.,\n",
       "         0.,  1.,  1.,  6.,  2.,  2.,  2.,  1.,  3.,  4.,  3.,  1.,  1.,\n",
       "         0.,  2.,  0.,  1.,  4.,  1.,  0.,  1.,  1.,  0.,  1.,  0.,  1.,\n",
       "         1.,  2.,  1.,  1.,  3.,  0.,  1.,  0.,  0.,  0.,  2.,  0.,  1.,\n",
       "         2.,  0.,  0.,  2.,  1.,  0.,  0.,  1.,  0.,  0.,  0.,  0.,  0.,\n",
       "         0.,  1.,  0.,  1.,  2.,  0.,  0.,  0.,  2.,  0.,  1.,  1.,  0.,\n",
       "         0.,  2.,  0.,  0.,  0.,  1.,  0.,  1.,  0.,  0.,  0.,  1.,  1.,\n",
       "         1.,  0.,  0.,  1.,  1.,  3.,  0.,  3.,  1.,  0.,  1.,  0.,  0.,\n",
       "         0.,  1.,  1.,  0.,  0.,  1.,  0.,  0.,  0.,  1.,  0.,  0.,  0.,\n",
       "         0.,  0.,  1.,  0.,  1.,  0.,  0.,  0.,  1.,  0.,  0.,  0.,  0.,\n",
       "         2.,  0.,  2.,  0.,  0.,  0.,  0.,  0.,  0.,  0.,  0.,  0.,  1.,\n",
       "         0.,  0.,  0.,  1.,  2.,  0.,  1.,  0.,  0.,  1.,  0.,  0.,  1.,\n",
       "         0.,  0.,  1.,  0.,  1.,  0.,  0.,  0.,  0.,  0.,  0.,  0.,  0.,\n",
       "         0.,  0.,  0.,  0.,  0.,  1.,  0.,  0.,  0.,  0.,  0.,  1.,  0.,\n",
       "         0.,  0.,  0.,  0.,  0.,  2.,  0.,  1.,  0.,  0.,  0.,  0.,  0.,\n",
       "         0.,  2.,  0.,  0.,  0.,  0.,  1.,  0.,  0.,  1.,  0.,  0.,  0.,\n",
       "         1.,  0.,  0.,  1.,  1.,  0.,  0.,  0.,  0.,  0.,  0.,  0.,  0.,\n",
       "         0.,  0.,  0.,  0.,  0.,  0.,  0.,  0.,  0.,  0.,  1.,  0.,  0.,\n",
       "         0.,  0.,  0.,  1.,  0.,  0.,  0.,  0.,  0.,  0.,  0.,  0.,  0.,\n",
       "         0.,  0.,  0.,  0.,  0.,  0.,  0.,  0.,  0.,  1.,  0.,  0.,  1.,\n",
       "         0.,  0.,  0.,  0.,  0.,  0.,  0.,  0.,  0.,  0.,  0.,  0.,  0.,\n",
       "         0.,  0.,  0.,  1.,  0.,  1.,  0.,  0.,  0.,  0.,  0.,  1.,  0.,\n",
       "         0.,  0.,  0.,  0.,  0.,  0.,  0.,  0.,  0.,  0.,  0.,  0.,  0.,\n",
       "         0.,  0.,  0.,  0.,  0.,  0.,  0.,  0.,  0.,  0.,  0.,  0.,  0.,\n",
       "         0.,  0.,  0.,  0.,  0.,  0.,  0.,  0.,  0.,  0.,  0.,  0.,  0.,\n",
       "         0.,  0.,  0.,  0.,  0.,  0.,  0.,  0.,  1.,  0.,  0.,  0.,  0.,\n",
       "         0.,  0.,  0.,  0.,  0.,  0.,  0.,  0.,  0.,  0.,  0.,  0.,  0.,\n",
       "         0.,  0.,  0.,  0.,  0.,  0.,  0.,  0.,  0.,  0.,  0.,  0.,  0.,\n",
       "         0.,  0.,  0.,  0.,  0.,  1.,  0.,  0.,  0.,  0.,  1.,  0.,  0.,\n",
       "         0.,  0.,  0.,  0.,  0.,  1.,  0.,  0.,  0.,  0.,  0.,  0.,  0.,\n",
       "         0.,  0.,  0.,  0.,  0.,  0.,  0.,  0.,  0.,  0.,  0.,  0.,  0.,\n",
       "         0.,  0.,  0.,  0.,  0.,  0.,  0.,  0.,  0.,  0.,  0.,  0.,  0.,\n",
       "         0.,  2.,  0.,  0.,  0.,  0.,  0.,  0.,  0.,  0.,  0.,  1.,  0.,\n",
       "         0.,  0.,  0.,  0.,  0.,  0.,  0.,  0.,  0.,  0.,  0.,  0.,  0.,\n",
       "         0.,  0.,  0.,  0.,  0.,  0.,  0.,  0.,  0.,  0.,  0.,  0.,  0.,\n",
       "         0.,  0.,  0.,  0.,  0.,  0.,  0.,  0.,  0.,  0.,  0.,  0.,  0.,\n",
       "         0.,  0.,  0.,  1.,  0.,  0.,  0.,  0.,  0.,  0.,  0.,  1.,  1.,\n",
       "         0.,  0.,  0.,  0.,  0.,  0.,  0.,  0.,  0.,  0.,  0.,  0.,  0.,\n",
       "         0.,  0.,  0.,  0.,  0.,  0.,  0.,  0.,  0.,  0.,  0.,  0.,  0.,\n",
       "         0.,  0.,  0.,  0.,  1.,  0.,  0.,  0.,  0.,  0.,  0.,  0.,  0.,\n",
       "         0.,  0.,  0.,  0.,  0.,  0.,  0.,  0.,  0.,  0.,  0.,  0.,  1.,\n",
       "         0.,  0.,  0.,  0.,  0.,  0.,  1.,  0.,  0.,  0.,  0.,  0.,  0.,\n",
       "         0.,  0.,  0.,  0.,  0.,  0.,  0.,  0.,  0.,  0.,  0.,  0.,  0.,\n",
       "         0.,  0.,  0.,  0.,  0.,  0.,  0.,  0.,  0.,  0.,  0.,  0.,  0.,\n",
       "         0.,  0.,  0.,  0.,  0.,  0.,  0.,  0.,  0.,  0.,  0.,  0.,  0.,\n",
       "         0.,  0.,  0.,  0.,  0.,  0.,  0.,  0.,  0.,  0.,  0.,  0.,  0.,\n",
       "         0.,  0.,  0.,  0.,  0.,  0.,  0.,  0.,  0.,  0.,  0.,  0.,  0.,\n",
       "         0.,  0.,  0.,  0.,  0.,  0.,  0.,  0.,  0.,  1.,  0.,  0.,  0.,\n",
       "         0.,  0.,  0.,  0.,  0.,  0.,  0.,  0.,  0.,  0.,  0.,  0.,  0.,\n",
       "         0.,  0.,  0.,  0.,  0.,  0.,  0.,  0.,  0.,  0.,  0.,  0.,  0.,\n",
       "         0.,  0.,  0.,  0.,  0.,  0.,  0.,  0.,  0.,  0.,  0.,  0.,  0.,\n",
       "         0.,  0.,  0.,  0.,  1.,  0.,  0.,  0.,  0.,  0.,  1.,  0.,  0.,\n",
       "         0.,  0.,  0.,  0.,  0.,  1.,  0.,  0.,  0.,  0.,  0.,  0.,  0.,\n",
       "         0.,  0.,  0.,  0.,  0.,  0.,  0.,  0.,  0.,  0.,  0.,  0.,  0.,\n",
       "         0.,  0.,  0.,  0.,  0.,  0.,  0.,  0.,  0.,  0.,  0.,  0.,  0.,\n",
       "         0.,  0.,  0.,  0.,  0.,  0.,  0.,  0.,  0.,  0.,  0.,  0.,  0.,\n",
       "         0.,  0.,  0.,  0.,  0.,  0.,  0.,  0.,  0.,  0.,  0.,  0.,  0.,\n",
       "         0.,  0.,  0.,  0.,  0.,  0.,  0.,  0.,  0.,  0.,  0.,  0.,  0.,\n",
       "         0.,  0.,  0.,  0.,  0.,  0.,  0.,  0.,  0.,  0.,  0.,  1.]),\n",
       " array([ 9.14000034,  9.21355035,  9.28710035, ..., 82.54290244,\n",
       "        82.61645244, 82.69000244]),\n",
       " <a list of 1000 Patch objects>)"
      ]
     },
     "execution_count": 11,
     "metadata": {},
     "output_type": "execute_result"
    },
    {
     "data": {
      "image/png": "[encoded data removed]",
      "text/plain": [
       "<Figure size 432x288 with 1 Axes>"
      ]
     },
     "metadata": {
      "needs_background": "light"
     },
     "output_type": "display_data"
    }
   ],
   "source": [
    "## Jupyter Notebook의 Magic command로  notebook 내에서 figure를 볼 수 있게 해줌\n",
    "%matplotlib inline \n",
    "\n",
    "import matplotlib.pyplot as plt\n",
    "## numpy random를 import\n",
    "from numpy.random import randn\n",
    " \n",
    "fig = plt.figure()\n",
    " \n",
    "ax = fig.add_subplot(1,1,1)\n",
    "ax.hist(vixData['Close'], bins=1000, color='k', alpha=0.3)"
   ]
  },
  {
   "cell_type": "code",
   "execution_count": null,
   "metadata": {},
   "outputs": [],
   "source": []
  }
 ],
 "metadata": {
  "kernelspec": {
   "display_name": "Python 3",
   "language": "python",
   "name": "python3"
  },
  "language_info": {
   "codemirror_mode": {
    "name": "ipython",
    "version": 3
   },
   "file_extension": ".py",
   "mimetype": "text/x-python",
   "name": "python",
   "nbconvert_exporter": "python",
   "pygments_lexer": "ipython3",
   "version": "3.7.3"
  }
 },
 "nbformat": 4,
 "nbformat_minor": 2
}
